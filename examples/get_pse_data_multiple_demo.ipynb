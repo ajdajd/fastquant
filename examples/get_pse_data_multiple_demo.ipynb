{
 "cells": [
  {
   "cell_type": "code",
   "execution_count": 1,
   "metadata": {},
   "outputs": [],
   "source": [
    "from fastquant import get_pse_data, get_pse_data_multiple"
   ]
  },
  {
   "cell_type": "markdown",
   "metadata": {},
   "source": [
    "# Define variables"
   ]
  },
  {
   "cell_type": "code",
   "execution_count": 2,
   "metadata": {},
   "outputs": [],
   "source": [
    "# Define a list of stock symbols\n",
    "psei = [\n",
    "    \"AEV\",\n",
    "    \"AP\",\n",
    "    \"AGI\",\n",
    "    \"AC\",\n",
    "    \"ALI\",\n",
    "    \"BPI\",\n",
    "    \"BDO\",\n",
    "    \"BLOOM\",\n",
    "    \"DMC\",\n",
    "    \"EMP\",\n",
    "    \"FGEN\",\n",
    "    \"GLO\",\n",
    "    \"GTCAP\",\n",
    "    \"ICT\",\n",
    "    \"JGS\",\n",
    "    \"JFC\",\n",
    "    \"LTG\",\n",
    "    \"MER\",\n",
    "    \"MEG\",\n",
    "    \"MPI\",\n",
    "    \"MBT\",\n",
    "    \"TEL\",\n",
    "    \"PGOLD\",\n",
    "    \"RLC\",\n",
    "    \"RRHI\",\n",
    "    \"SMC\",\n",
    "    \"SECB\",\n",
    "    \"SM\",\n",
    "    \"SMPH\",\n",
    "    \"URC\",\n",
    "]\n",
    "\n",
    "# Define start and stop dates\n",
    "start_date = \"2020-01-01\"\n",
    "end_date = \"2020-06-01\""
   ]
  },
  {
   "cell_type": "markdown",
   "metadata": {},
   "source": [
    "# Method 1: Without parallelization"
   ]
  },
  {
   "cell_type": "code",
   "execution_count": 3,
   "metadata": {},
   "outputs": [
    {
     "name": "stdout",
     "output_type": "stream",
     "text": [
      "CPU times: user 12.5 s, sys: 266 ms, total: 12.8 s\n",
      "Wall time: 12.8 s\n"
     ]
    }
   ],
   "source": [
    "%%time\n",
    "\n",
    "for symbol in psei:\n",
    "    get_pse_data(symbol, start_date, end_date)"
   ]
  },
  {
   "cell_type": "markdown",
   "metadata": {},
   "source": [
    "# Method 2: With parallelization"
   ]
  },
  {
   "cell_type": "code",
   "execution_count": 4,
   "metadata": {},
   "outputs": [
    {
     "name": "stderr",
     "output_type": "stream",
     "text": [
      "[Parallel(n_jobs=4)]: Using backend LokyBackend with 4 concurrent workers.\n"
     ]
    },
    {
     "name": "stdout",
     "output_type": "stream",
     "text": [
      "CPU times: user 57.2 ms, sys: 44.1 ms, total: 101 ms\n",
      "Wall time: 6.46 s\n"
     ]
    },
    {
     "name": "stderr",
     "output_type": "stream",
     "text": [
      "[Parallel(n_jobs=4)]: Done  30 out of  30 | elapsed:    6.5s finished\n"
     ]
    }
   ],
   "source": [
    "%%time\n",
    "\n",
    "data = get_pse_data_multiple(\n",
    "    psei, n_jobs=4, start_date=start_date, end_date=end_date\n",
    ")"
   ]
  },
  {
   "cell_type": "markdown",
   "metadata": {},
   "source": [
    "## Accessing individual stock data"
   ]
  },
  {
   "cell_type": "code",
   "execution_count": 5,
   "metadata": {},
   "outputs": [
    {
     "data": {
      "text/html": [
       "<div>\n",
       "<style scoped>\n",
       "    .dataframe tbody tr th:only-of-type {\n",
       "        vertical-align: middle;\n",
       "    }\n",
       "\n",
       "    .dataframe tbody tr th {\n",
       "        vertical-align: top;\n",
       "    }\n",
       "\n",
       "    .dataframe thead th {\n",
       "        text-align: right;\n",
       "    }\n",
       "</style>\n",
       "<table border=\"1\" class=\"dataframe\">\n",
       "  <thead>\n",
       "    <tr style=\"text-align: right;\">\n",
       "      <th></th>\n",
       "      <th>open</th>\n",
       "      <th>high</th>\n",
       "      <th>low</th>\n",
       "      <th>close</th>\n",
       "      <th>value</th>\n",
       "    </tr>\n",
       "    <tr>\n",
       "      <th>dt</th>\n",
       "      <th></th>\n",
       "      <th></th>\n",
       "      <th></th>\n",
       "      <th></th>\n",
       "      <th></th>\n",
       "    </tr>\n",
       "  </thead>\n",
       "  <tbody>\n",
       "    <tr>\n",
       "      <th>2020-01-02</th>\n",
       "      <td>216.0</td>\n",
       "      <td>216.6</td>\n",
       "      <td>210.4</td>\n",
       "      <td>213.0</td>\n",
       "      <td>80506314.0</td>\n",
       "    </tr>\n",
       "    <tr>\n",
       "      <th>2020-01-03</th>\n",
       "      <td>215.0</td>\n",
       "      <td>218.0</td>\n",
       "      <td>213.8</td>\n",
       "      <td>214.8</td>\n",
       "      <td>301408846.0</td>\n",
       "    </tr>\n",
       "    <tr>\n",
       "      <th>2020-01-06</th>\n",
       "      <td>213.8</td>\n",
       "      <td>213.8</td>\n",
       "      <td>205.8</td>\n",
       "      <td>213.0</td>\n",
       "      <td>93468576.0</td>\n",
       "    </tr>\n",
       "    <tr>\n",
       "      <th>2020-01-07</th>\n",
       "      <td>213.0</td>\n",
       "      <td>217.0</td>\n",
       "      <td>213.0</td>\n",
       "      <td>217.0</td>\n",
       "      <td>166509560.0</td>\n",
       "    </tr>\n",
       "    <tr>\n",
       "      <th>2020-01-08</th>\n",
       "      <td>214.4</td>\n",
       "      <td>214.4</td>\n",
       "      <td>210.2</td>\n",
       "      <td>210.2</td>\n",
       "      <td>88064150.0</td>\n",
       "    </tr>\n",
       "  </tbody>\n",
       "</table>\n",
       "</div>"
      ],
      "text/plain": [
       "             open   high    low  close        value\n",
       "dt                                                 \n",
       "2020-01-02  216.0  216.6  210.4  213.0   80506314.0\n",
       "2020-01-03  215.0  218.0  213.8  214.8  301408846.0\n",
       "2020-01-06  213.8  213.8  205.8  213.0   93468576.0\n",
       "2020-01-07  213.0  217.0  213.0  217.0  166509560.0\n",
       "2020-01-08  214.4  214.4  210.2  210.2   88064150.0"
      ]
     },
     "execution_count": 5,
     "metadata": {},
     "output_type": "execute_result"
    }
   ],
   "source": [
    "data[\"JFC\"].head()"
   ]
  }
 ],
 "metadata": {
  "kernelspec": {
   "display_name": "Python 3",
   "language": "python",
   "name": "python3"
  },
  "language_info": {
   "codemirror_mode": {
    "name": "ipython",
    "version": 3
   },
   "file_extension": ".py",
   "mimetype": "text/x-python",
   "name": "python",
   "nbconvert_exporter": "python",
   "pygments_lexer": "ipython3",
   "version": "3.8.5"
  }
 },
 "nbformat": 4,
 "nbformat_minor": 4
}
